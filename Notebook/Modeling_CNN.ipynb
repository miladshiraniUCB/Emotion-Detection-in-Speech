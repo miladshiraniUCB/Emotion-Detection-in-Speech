{
  "nbformat": 4,
  "nbformat_minor": 0,
  "metadata": {
    "colab": {
      "name": "Modeling-CNN.ipynb",
      "provenance": [],
      "collapsed_sections": []
    },
    "kernelspec": {
      "name": "python3",
      "display_name": "Python 3"
    },
    "language_info": {
      "name": "python"
    },
    "gpuClass": "standard",
    "accelerator": "GPU"
  },
  "cells": [
    {
      "cell_type": "code",
      "source": [
        "from google.colab import drive\n",
        "drive.mount('/content/drive')"
      ],
      "metadata": {
        "colab": {
          "base_uri": "https://localhost:8080/"
        },
        "id": "wHqr-wDZ4SRG",
        "outputId": "7939c32e-aea7-4817-cc89-3b1507bc9e47"
      },
      "execution_count": 14,
      "outputs": [
        {
          "output_type": "stream",
          "name": "stdout",
          "text": [
            "Drive already mounted at /content/drive; to attempt to forcibly remount, call drive.mount(\"/content/drive\", force_remount=True).\n"
          ]
        }
      ]
    },
    {
      "cell_type": "code",
      "execution_count": 2,
      "metadata": {
        "colab": {
          "base_uri": "https://localhost:8080/"
        },
        "id": "sMK_HnyA0-EC",
        "outputId": "b1a70087-bb06-4494-ba48-e1cc133b86c8"
      },
      "outputs": [
        {
          "output_type": "stream",
          "name": "stdout",
          "text": [
            "GPU is available\n"
          ]
        }
      ],
      "source": [
        "import pandas as pd\n",
        "import seaborn as sns\n",
        "import matplotlib.pyplot as plt\n",
        "import seaborn as sns\n",
        "import numpy as np\n",
        "import os \n",
        "\n",
        "\n",
        "from sklearn.preprocessing import LabelEncoder\n",
        "from sklearn.metrics import confusion_matrix, plot_confusion_matrix, classification_report\n",
        "\n",
        "import tensorflow as tf\n",
        "from tensorflow.keras import layers\n",
        "from tensorflow.keras.layers import Conv2D, MaxPooling2D, Flatten, Dense\n",
        "from tensorflow.keras.preprocessing.image import ImageDataGenerator\n",
        "from tensorflow.keras.optimizers import RMSprop, Adam\n",
        "\n",
        "import warnings\n",
        "warnings.filterwarnings('ignore')\n",
        "\n",
        "print(\"GPU is\", \"available\" if tf.config.list_physical_devices('GPU') else \"NOT AVAILABLE\")"
      ]
    },
    {
      "cell_type": "code",
      "source": [
        "!nvidia-smi"
      ],
      "metadata": {
        "colab": {
          "base_uri": "https://localhost:8080/"
        },
        "id": "udtJfMlq1NeA",
        "outputId": "1b1a1d20-5fef-4f3a-f242-d6adc19bc0ff"
      },
      "execution_count": 3,
      "outputs": [
        {
          "output_type": "stream",
          "name": "stdout",
          "text": [
            "Fri Jul 22 08:31:48 2022       \n",
            "+-----------------------------------------------------------------------------+\n",
            "| NVIDIA-SMI 460.32.03    Driver Version: 460.32.03    CUDA Version: 11.2     |\n",
            "|-------------------------------+----------------------+----------------------+\n",
            "| GPU  Name        Persistence-M| Bus-Id        Disp.A | Volatile Uncorr. ECC |\n",
            "| Fan  Temp  Perf  Pwr:Usage/Cap|         Memory-Usage | GPU-Util  Compute M. |\n",
            "|                               |                      |               MIG M. |\n",
            "|===============================+======================+======================|\n",
            "|   0  Tesla T4            Off  | 00000000:00:04.0 Off |                    0 |\n",
            "| N/A   54C    P8    10W /  70W |      3MiB / 15109MiB |      0%      Default |\n",
            "|                               |                      |                  N/A |\n",
            "+-------------------------------+----------------------+----------------------+\n",
            "                                                                               \n",
            "+-----------------------------------------------------------------------------+\n",
            "| Processes:                                                                  |\n",
            "|  GPU   GI   CI        PID   Type   Process name                  GPU Memory |\n",
            "|        ID   ID                                                   Usage      |\n",
            "|=============================================================================|\n",
            "|  No running processes found                                                 |\n",
            "+-----------------------------------------------------------------------------+\n"
          ]
        }
      ]
    },
    {
      "cell_type": "markdown",
      "source": [
        "# Importing Train-Test Data"
      ],
      "metadata": {
        "id": "_58htrZZ1SXE"
      }
    },
    {
      "cell_type": "code",
      "source": [
        "base_dir = \"/content/drive/MyDrive/Emotion-Detection/mel_spectrogram\"\n",
        "\n",
        "train_dir = os.path.join(base_dir, 'train')\n",
        "test_dir  = os.path.join(base_dir, 'test')\n",
        "\n",
        "# Directory with training normal/abnormal spectrograms\n",
        "train_angry    = os.path.join(train_dir, 'angry')\n",
        "train_disgust  = os.path.join(train_dir, 'disgust')\n",
        "train_fear     = os.path.join(train_dir, 'fear')\n",
        "train_happy    = os.path.join(train_dir, 'happy')\n",
        "train_neutral  = os.path.join(train_dir, 'neutral')\n",
        "train_sad      = os.path.join(train_dir, 'sad')\n",
        "train_surprise = os.path.join(train_dir, 'surprise')\n",
        "\n",
        "\n",
        "# Directory with test normal/abnormal spectrograms\n",
        "\n",
        "test_angry    = os.path.join(test_dir, 'angry')\n",
        "test_disgust  = os.path.join(test_dir, 'disgust')\n",
        "test_fear     = os.path.join(test_dir, 'fear')\n",
        "test_happy    = os.path.join(test_dir, 'happy')\n",
        "test_neutral  = os.path.join(test_dir, 'neutral')\n",
        "test_sad      = os.path.join(test_dir, 'sad')\n",
        "test_surprise = os.path.join(test_dir, 'surprise')\n"
      ],
      "metadata": {
        "id": "qs9W0iev1RCU"
      },
      "execution_count": 4,
      "outputs": []
    },
    {
      "cell_type": "code",
      "source": [
        "# All images will be rescaled by 1./255.\n",
        "train_datagen = ImageDataGenerator( rescale = 1.0/255, dtype= tf.float64)\n",
        "test_datagen  = ImageDataGenerator( rescale = 1.0/255, dtype= tf.float64)\n",
        "\n",
        "target_size = (150, 150)\n",
        "train_generator = train_datagen.flow_from_directory(train_dir,\n",
        "                                                    batch_size=50,\n",
        "                                                    class_mode=\"categorical\",\n",
        "                                                    target_size=target_size)     \n",
        "# --------------------\n",
        "# Flow validation images in batches of 20 using test_datagen generator\n",
        "# --------------------\n",
        "validation_generator =  test_datagen.flow_from_directory(test_dir,\n",
        "                                                         batch_size=25,\n",
        "                                                         class_mode  = \"categorical\",\n",
        "                                                         target_size = target_size)\n",
        "\n"
      ],
      "metadata": {
        "colab": {
          "base_uri": "https://localhost:8080/"
        },
        "id": "UbyN-DX01f-0",
        "outputId": "1cd013e8-f637-4b96-dae1-a6c328cf6e1e"
      },
      "execution_count": 8,
      "outputs": [
        {
          "output_type": "stream",
          "name": "stdout",
          "text": [
            "Found 2240 images belonging to 7 classes.\n",
            "Found 560 images belonging to 7 classes.\n"
          ]
        }
      ]
    },
    {
      "cell_type": "code",
      "source": [
        "model = tf.keras.models.Sequential([\n",
        "    # Note the input shape is the desired size of the image 150x150 with 3 bytes color\n",
        "    tf.keras.layers.Conv2D(16, (3,3), activation='relu', \n",
        "                           input_shape=(target_size[0], target_size[1], 3)),\n",
        "    tf.keras.layers.MaxPooling2D(2,2),\n",
        "    # tf.keras.layers.GaussianNoise(stddev=1),\n",
        "    tf.keras.layers.Conv2D(32, (3,3), activation='relu'),\n",
        "    tf.keras.layers.MaxPooling2D(2,2), \n",
        "    # tf.keras.layers.GaussianNoise(stddev=1),\n",
        "    tf.keras.layers.Conv2D(64, (3,3), activation='relu'), \n",
        "    tf.keras.layers.MaxPooling2D(2,2),\n",
        "    # Flatten the results to feed into a DNN\n",
        "    tf.keras.layers.Flatten(), \n",
        "    # 512 neuron hidden layer\n",
        "    tf.keras.layers.Dense(512, activation='relu'), \n",
        "    # tf.keras.layers.GaussianNoise(stddev=1),\n",
        "    # # Only 1 output neuron. \n",
        "    # tf.keras.layers.Dense(256, activation='relu'),\n",
        "    # tf.keras.layers.GaussianNoise(stddev=1),\n",
        "    # tf.keras.layers.Dense(128, activation='relu'),\n",
        "    tf.keras.layers.Dense(7, activation='softmax')  \n",
        "])\n",
        "model.summary()"
      ],
      "metadata": {
        "colab": {
          "base_uri": "https://localhost:8080/"
        },
        "id": "nEUb7-u51ipc",
        "outputId": "56e583e5-e6bd-4b36-8aec-9d5bb81889bd"
      },
      "execution_count": 9,
      "outputs": [
        {
          "output_type": "stream",
          "name": "stdout",
          "text": [
            "Model: \"sequential_1\"\n",
            "_________________________________________________________________\n",
            " Layer (type)                Output Shape              Param #   \n",
            "=================================================================\n",
            " conv2d_3 (Conv2D)           (None, 148, 148, 16)      448       \n",
            "                                                                 \n",
            " max_pooling2d_3 (MaxPooling  (None, 74, 74, 16)       0         \n",
            " 2D)                                                             \n",
            "                                                                 \n",
            " conv2d_4 (Conv2D)           (None, 72, 72, 32)        4640      \n",
            "                                                                 \n",
            " max_pooling2d_4 (MaxPooling  (None, 36, 36, 32)       0         \n",
            " 2D)                                                             \n",
            "                                                                 \n",
            " conv2d_5 (Conv2D)           (None, 34, 34, 64)        18496     \n",
            "                                                                 \n",
            " max_pooling2d_5 (MaxPooling  (None, 17, 17, 64)       0         \n",
            " 2D)                                                             \n",
            "                                                                 \n",
            " flatten_1 (Flatten)         (None, 18496)             0         \n",
            "                                                                 \n",
            " dense_2 (Dense)             (None, 512)               9470464   \n",
            "                                                                 \n",
            " dense_3 (Dense)             (None, 7)                 3591      \n",
            "                                                                 \n",
            "=================================================================\n",
            "Total params: 9,497,639\n",
            "Trainable params: 9,497,639\n",
            "Non-trainable params: 0\n",
            "_________________________________________________________________\n"
          ]
        }
      ]
    },
    {
      "cell_type": "code",
      "source": [
        "model.compile(optimizer=Adam(learning_rate=0.01),\n",
        "              loss=\"categorical_crossentropy\",\n",
        "              metrics = ['accuracy'])\n",
        "\n",
        "\n",
        "model.fit(\n",
        "            train_generator,\n",
        "            epochs=10,\n",
        "            validation_data=validation_generator,\n",
        "           )\n",
        "print(\"Fitting Done\")"
      ],
      "metadata": {
        "colab": {
          "base_uri": "https://localhost:8080/"
        },
        "id": "VrnuzOfl1kvx",
        "outputId": "49e9dd06-5985-4527-dcb8-eaeefc157f7a"
      },
      "execution_count": 10,
      "outputs": [
        {
          "output_type": "stream",
          "name": "stdout",
          "text": [
            "Epoch 1/10\n",
            "45/45 [==============================] - 451s 10s/step - loss: 3.3069 - accuracy: 0.5938 - val_loss: 0.2624 - val_accuracy: 0.9196\n",
            "Epoch 2/10\n",
            "45/45 [==============================] - 93s 2s/step - loss: 0.1855 - accuracy: 0.9348 - val_loss: 0.1463 - val_accuracy: 0.9518\n",
            "Epoch 3/10\n",
            "45/45 [==============================] - 92s 2s/step - loss: 0.0808 - accuracy: 0.9754 - val_loss: 0.0690 - val_accuracy: 0.9750\n",
            "Epoch 4/10\n",
            "45/45 [==============================] - 95s 2s/step - loss: 0.0367 - accuracy: 0.9875 - val_loss: 0.0661 - val_accuracy: 0.9768\n",
            "Epoch 5/10\n",
            "45/45 [==============================] - 93s 2s/step - loss: 0.0290 - accuracy: 0.9875 - val_loss: 0.0466 - val_accuracy: 0.9804\n",
            "Epoch 6/10\n",
            "45/45 [==============================] - 96s 2s/step - loss: 0.0130 - accuracy: 0.9960 - val_loss: 0.0674 - val_accuracy: 0.9857\n",
            "Epoch 7/10\n",
            "45/45 [==============================] - 92s 2s/step - loss: 0.0212 - accuracy: 0.9942 - val_loss: 0.1154 - val_accuracy: 0.9625\n",
            "Epoch 8/10\n",
            "45/45 [==============================] - 92s 2s/step - loss: 0.0326 - accuracy: 0.9888 - val_loss: 0.1068 - val_accuracy: 0.9679\n",
            "Epoch 9/10\n",
            "45/45 [==============================] - 92s 2s/step - loss: 0.0246 - accuracy: 0.9924 - val_loss: 0.0554 - val_accuracy: 0.9804\n",
            "Epoch 10/10\n",
            "45/45 [==============================] - 92s 2s/step - loss: 0.0053 - accuracy: 0.9987 - val_loss: 0.0339 - val_accuracy: 0.9857\n",
            "Fitting Done\n"
          ]
        }
      ]
    },
    {
      "cell_type": "code",
      "source": [
        "fig , ax = plt.subplots(1,2)\n",
        "\n",
        "\n",
        "test_acc = model.history.history[\"val_accuracy\"]\n",
        "test_loss = model.history.history[\"val_loss\"]\n",
        "train_acc = model.history.history[\"accuracy\"]\n",
        "train_loss = model.history.history[\"loss\"]\n",
        "\n",
        "epochs = range(1, len(test_acc) + 1)\n",
        "\n",
        "fig.set_size_inches(20,6)\n",
        "ax[0].plot(epochs , train_loss , label = 'Training Loss')\n",
        "ax[0].plot(epochs , test_loss , label = 'Testing Loss')\n",
        "ax[0].set_title('Training & Testing Loss')\n",
        "ax[0].legend()\n",
        "ax[0].set_xlabel(\"Epochs\")\n",
        "\n",
        "ax[1].plot(epochs , train_acc , label = 'Training Accuracy')\n",
        "ax[1].plot(epochs , test_acc , label = 'Testing Accuracy')\n",
        "ax[1].set_title('Training & Testing Accuracy')\n",
        "ax[1].legend()\n",
        "ax[1].set_xlabel(\"Epochs\")\n",
        "plt.show()\n"
      ],
      "metadata": {
        "id": "3KALkMl91o70",
        "colab": {
          "base_uri": "https://localhost:8080/",
          "height": 404
        },
        "outputId": "9efe4afa-c5f1-45b2-e8ee-d4ebf7a7e754"
      },
      "execution_count": 11,
      "outputs": [
        {
          "output_type": "display_data",
          "data": {
            "text/plain": [
              "<Figure size 1440x432 with 2 Axes>"
            ],
            "image/png": "[encoded data removed]"
          },
          "metadata": {
            "needs_background": "light"
          }
        }
      ]
    },
    {
      "cell_type": "code",
      "source": [
        "import pickle\n",
        "from joblib import dump, load\n",
        "dump(model, '/content/drive/MyDrive/Emotion-Detection/Models/model.joblib')"
      ],
      "metadata": {
        "colab": {
          "base_uri": "https://localhost:8080/"
        },
        "id": "ksifOHc9I_ul",
        "outputId": "18032a58-e641-4049-ecce-9e9e72288761"
      },
      "execution_count": 15,
      "outputs": [
        {
          "output_type": "stream",
          "name": "stdout",
          "text": [
            "INFO:tensorflow:Assets written to: ram://47bed998-084d-49f5-bb6e-86d04e243700/assets\n"
          ]
        },
        {
          "output_type": "execute_result",
          "data": {
            "text/plain": [
              "['/content/drive/MyDrive/Emotion-Detection/Models/model.joblib']"
            ]
          },
          "metadata": {},
          "execution_count": 15
        }
      ]
    },
    {
      "cell_type": "code",
      "source": [
        ""
      ],
      "metadata": {
        "id": "siBFrK4tJWIT"
      },
      "execution_count": null,
      "outputs": []
    }
  ]
}